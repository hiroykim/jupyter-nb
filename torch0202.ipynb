{
  "nbformat": 4,
  "nbformat_minor": 0,
  "metadata": {
    "colab": {
      "name": "torch0202",
      "provenance": [],
      "private_outputs": true,
      "authorship_tag": "ABX9TyMlEPLMHj8w3eQk0RRrJFH3",
      "include_colab_link": true
    },
    "kernelspec": {
      "name": "python3",
      "display_name": "Python 3"
    }
  },
  "cells": [
    {
      "cell_type": "markdown",
      "metadata": {
        "id": "view-in-github",
        "colab_type": "text"
      },
      "source": [
        "<a href=\"https://colab.research.google.com/github/hiroykim/jupyter-nb/blob/master/torch0202.ipynb\" target=\"_parent\"><img src=\"https://colab.research.google.com/assets/colab-badge.svg\" alt=\"Open In Colab\"/></a>"
      ]
    },
    {
      "cell_type": "code",
      "metadata": {
        "id": "BMlu4-VdYIqM",
        "colab_type": "code",
        "colab": {}
      },
      "source": [
        "import numpy as np\n",
        "import torch"
      ],
      "execution_count": null,
      "outputs": []
    },
    {
      "cell_type": "code",
      "metadata": {
        "id": "Vqow3__jYWEY",
        "colab_type": "code",
        "colab": {}
      },
      "source": [
        "t = np.array([[[0, 1, 2],\n",
        "               [3, 4, 5]],\n",
        "              [[6, 7, 8],\n",
        "               [9, 10, 11]]])\n",
        "ft = torch.FloatTensor(t)\n",
        "print(t)\n",
        "print(ft)\n",
        "print(ft.shape)\n",
        "print(ft.size())"
      ],
      "execution_count": null,
      "outputs": []
    },
    {
      "cell_type": "code",
      "metadata": {
        "id": "6ZnrCA7jbPhX",
        "colab_type": "code",
        "colab": {}
      },
      "source": [
        "print(ft.view(-1,2))"
      ],
      "execution_count": null,
      "outputs": []
    },
    {
      "cell_type": "code",
      "metadata": {
        "id": "jj_TTFV4b9cR",
        "colab_type": "code",
        "colab": {}
      },
      "source": [
        "ft2 = ft.view(12,1,1)\n",
        "print(ft2)\n",
        "print(ft2.shape)\n",
        "print(ft2.squeeze())\n",
        "print(ft2.squeeze().shape)\n",
        "ft3 = ft2.squeeze()\n",
        "print(ft3.unsqueeze(0))\n",
        "print(ft3.unsqueeze(1).shape)"
      ],
      "execution_count": null,
      "outputs": []
    }
  ]
}